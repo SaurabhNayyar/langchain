{
 "cells": [
  {
   "cell_type": "markdown",
   "metadata": {},
   "source": [
    "# response_metadata - contains data about token counts, logprobs, and more\n",
    "Many model providers include some metadata in their chat generation responses. This metadata can be accessed via the <b><u><i>AIMessage.response_metadata: Dict</i></u></b> attribute. Depending on the model provider and model configuration, this can contain information like <b><u><i>token counts, logprobs, and more</i></u></b>"
   ]
  },
  {
   "cell_type": "code",
   "execution_count": 5,
   "metadata": {},
   "outputs": [
    {
     "name": "stdout",
     "output_type": "stream",
     "text": [
      "The founder of Microsoft is Bill Gates.\n"
     ]
    },
    {
     "data": {
      "text/plain": [
       "{'token_usage': {'completion_tokens': 8,\n",
       "  'prompt_tokens': 17,\n",
       "  'total_tokens': 25},\n",
       " 'model_name': 'gpt-3.5-turbo-0125',\n",
       " 'system_fingerprint': 'fp_3b956da36b',\n",
       " 'finish_reason': 'stop',\n",
       " 'logprobs': {'content': [{'token': 'The',\n",
       "    'bytes': [84, 104, 101],\n",
       "    'logprob': -0.07072756,\n",
       "    'top_logprobs': []},\n",
       "   {'token': ' founder',\n",
       "    'bytes': [32, 102, 111, 117, 110, 100, 101, 114],\n",
       "    'logprob': -0.10963247,\n",
       "    'top_logprobs': []},\n",
       "   {'token': ' of',\n",
       "    'bytes': [32, 111, 102],\n",
       "    'logprob': -4.1273333e-06,\n",
       "    'top_logprobs': []},\n",
       "   {'token': ' Microsoft',\n",
       "    'bytes': [32, 77, 105, 99, 114, 111, 115, 111, 102, 116],\n",
       "    'logprob': -4.00813e-06,\n",
       "    'top_logprobs': []},\n",
       "   {'token': ' is',\n",
       "    'bytes': [32, 105, 115],\n",
       "    'logprob': -0.00012368128,\n",
       "    'top_logprobs': []},\n",
       "   {'token': ' Bill',\n",
       "    'bytes': [32, 66, 105, 108, 108],\n",
       "    'logprob': -0.00054397696,\n",
       "    'top_logprobs': []},\n",
       "   {'token': ' Gates',\n",
       "    'bytes': [32, 71, 97, 116, 101, 115],\n",
       "    'logprob': -5.5122365e-07,\n",
       "    'top_logprobs': []},\n",
       "   {'token': '.',\n",
       "    'bytes': [46],\n",
       "    'logprob': -0.060392242,\n",
       "    'top_logprobs': []}]}}"
      ]
     },
     "execution_count": 5,
     "metadata": {},
     "output_type": "execute_result"
    }
   ],
   "source": [
    "from langchain_openai import ChatOpenAI\n",
    "from langchain_core.messages import HumanMessage\n",
    "\n",
    "llm = ChatOpenAI(model=\"gpt-3.5-turbo-0125\").bind(logprobs=True)\n",
    "msg = llm.invoke((\"human\",\"Name the founder of Microsoft\"))\n",
    "print(msg.content)\n",
    "msg.response_metadata\n"
   ]
  }
 ],
 "metadata": {
  "kernelspec": {
   "display_name": "venvLangchain",
   "language": "python",
   "name": "python3"
  },
  "language_info": {
   "codemirror_mode": {
    "name": "ipython",
    "version": 3
   },
   "file_extension": ".py",
   "mimetype": "text/x-python",
   "name": "python",
   "nbconvert_exporter": "python",
   "pygments_lexer": "ipython3",
   "version": "3.12.3"
  }
 },
 "nbformat": 4,
 "nbformat_minor": 2
}
