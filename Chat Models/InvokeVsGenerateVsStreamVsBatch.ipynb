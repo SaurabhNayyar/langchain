{
 "cells": [
  {
   "cell_type": "code",
   "execution_count": 12,
   "metadata": {},
   "outputs": [],
   "source": [
    "from langchain_openai import ChatOpenAI\n",
    "from langchain_core.messages import SystemMessage, HumanMessage\n",
    "from langchain_core.prompts import PromptTemplate"
   ]
  },
  {
   "cell_type": "markdown",
   "metadata": {},
   "source": [
    "#### Invoke\n",
    "invoke: call the chain on a single input"
   ]
  },
  {
   "cell_type": "code",
   "execution_count": 25,
   "metadata": {},
   "outputs": [
    {
     "name": "stdout",
     "output_type": "stream",
     "text": [
      "content='Langchain AI is designed to provide language translation services, enabling effective communication across different languages for users worldwide.' response_metadata={'token_usage': {'completion_tokens': 21, 'prompt_tokens': 28, 'total_tokens': 49}, 'model_name': 'gpt-3.5-turbo-0125', 'system_fingerprint': 'fp_c2295e73ad', 'finish_reason': 'stop', 'logprobs': None} id='run-1ae8f598-7e0e-4d03-8ffa-b0ffad7f1612-0'\n"
     ]
    }
   ],
   "source": [
    "llm = ChatOpenAI(model=\"gpt-3.5-turbo-0125\")\n",
    "\n",
    "messages = [SystemMessage(content=\"You're a helful assistant\"),(HumanMessage(content=\"Explain purpose of langchain AI in 20 words\"))]\n",
    "\n",
    "result = llm.invoke(messages)\n",
    "print(result)"
   ]
  },
  {
   "cell_type": "markdown",
   "metadata": {},
   "source": [
    "#### generate\n",
    "Generates LLM response, also allows to get the token usage details using <b>llm_output</b>"
   ]
  },
  {
   "cell_type": "code",
   "execution_count": 26,
   "metadata": {},
   "outputs": [
    {
     "name": "stdout",
     "output_type": "stream",
     "text": [
      "generations=[[ChatGeneration(text='Langchain AI facilitates multilingual communication, translation, and natural language processing tasks to enhance user experience and efficiency.', generation_info={'finish_reason': 'stop', 'logprobs': None}, message=AIMessage(content='Langchain AI facilitates multilingual communication, translation, and natural language processing tasks to enhance user experience and efficiency.', response_metadata={'token_usage': {'completion_tokens': 22, 'prompt_tokens': 28, 'total_tokens': 50}, 'model_name': 'gpt-3.5-turbo-0125', 'system_fingerprint': 'fp_c2295e73ad', 'finish_reason': 'stop', 'logprobs': None}, id='run-fa961904-d8c4-4023-a429-798a0e7db825-0'))]] llm_output={'token_usage': {'completion_tokens': 22, 'prompt_tokens': 28, 'total_tokens': 50}, 'model_name': 'gpt-3.5-turbo-0125', 'system_fingerprint': 'fp_c2295e73ad'} run=[RunInfo(run_id=UUID('fa961904-d8c4-4023-a429-798a0e7db825'))]\n",
      "****************************************************************************************************\n",
      "{'token_usage': {'completion_tokens': 22, 'prompt_tokens': 28, 'total_tokens': 50}, 'model_name': 'gpt-3.5-turbo-0125', 'system_fingerprint': 'fp_c2295e73ad'}\n"
     ]
    }
   ],
   "source": [
    "generate_result = llm.generate([messages])\n",
    "\n",
    "print(generate_result)\n",
    "print(\"**\"*50)\n",
    "print(generate_result.llm_output)"
   ]
  },
  {
   "cell_type": "markdown",
   "metadata": {},
   "source": [
    "#### stream: \n",
    "stream back chunks of the response. \n",
    "This allows you to start printing the beginning of the completion before the full completion is finished."
   ]
  },
  {
   "cell_type": "code",
   "execution_count": 9,
   "metadata": {},
   "outputs": [
    {
     "name": "stdout",
     "output_type": "stream",
     "text": [
      "Langchain AI enables secure and efficient communication across languages, facilitating global collaboration and understanding through advanced language processing."
     ]
    }
   ],
   "source": [
    "for chunk in llm.stream(messages):\n",
    "    print(chunk.content, end=\"\", flush=True)"
   ]
  },
  {
   "cell_type": "markdown",
   "metadata": {},
   "source": [
    "#### batch\n",
    "batch: call the chain on a list of inputs"
   ]
  },
  {
   "cell_type": "code",
   "execution_count": 15,
   "metadata": {},
   "outputs": [
    {
     "data": {
      "text/plain": [
       "[AIMessage(content='Why did the bird join a band? Because it had perfect pitch!', response_metadata={'token_usage': {'completion_tokens': 14, 'prompt_tokens': 13, 'total_tokens': 27}, 'model_name': 'gpt-3.5-turbo-0125', 'system_fingerprint': 'fp_c2295e73ad', 'finish_reason': 'stop', 'logprobs': None}, id='run-cc28d796-9a02-4126-8afe-e2b620292ac1-0'),\n",
       " AIMessage(content='Why do programmers prefer dark mode? \\n\\nBecause the light attracts bugs!', response_metadata={'token_usage': {'completion_tokens': 14, 'prompt_tokens': 13, 'total_tokens': 27}, 'model_name': 'gpt-3.5-turbo-0125', 'system_fingerprint': 'fp_c2295e73ad', 'finish_reason': 'stop', 'logprobs': None}, id='run-5c6cf6c2-87fe-423e-85c9-ecda82188ae4-0')]"
      ]
     },
     "execution_count": 15,
     "metadata": {},
     "output_type": "execute_result"
    }
   ],
   "source": [
    "prompt = PromptTemplate.from_template(\"Tell me a joke about {topic}\")\n",
    "\n",
    "chain = prompt|llm\n",
    "\n",
    "chain.batch([{\"topic\":\"birds\"},{\"topic\":\"programming\"}])"
   ]
  },
  {
   "cell_type": "code",
   "execution_count": 19,
   "metadata": {},
   "outputs": [
    {
     "data": {
      "text/plain": [
       "LLMResult(generations=[[ChatGeneration(text=\"J'adore programmer.\", generation_info={'finish_reason': 'stop', 'logprobs': None}, message=AIMessage(content=\"J'adore programmer.\", response_metadata={'token_usage': {'completion_tokens': 6, 'prompt_tokens': 26, 'total_tokens': 32}, 'model_name': 'gpt-3.5-turbo-0125', 'system_fingerprint': 'fp_c2295e73ad', 'finish_reason': 'stop', 'logprobs': None}, id='run-7c2430ae-c08f-48b0-9064-ff80f49deca7-0'))], [ChatGeneration(text=\"J'adore l'intelligence artificielle.\", generation_info={'finish_reason': 'stop', 'logprobs': None}, message=AIMessage(content=\"J'adore l'intelligence artificielle.\", response_metadata={'token_usage': {'completion_tokens': 12, 'prompt_tokens': 27, 'total_tokens': 39}, 'model_name': 'gpt-3.5-turbo-0125', 'system_fingerprint': 'fp_c2295e73ad', 'finish_reason': 'stop', 'logprobs': None}, id='run-23a5ff60-580b-49fb-8d42-afc26ebd1fb0-0'))]], llm_output={'token_usage': {'completion_tokens': 18, 'prompt_tokens': 53, 'total_tokens': 71}, 'model_name': 'gpt-3.5-turbo-0125', 'system_fingerprint': 'fp_c2295e73ad'}, run=[RunInfo(run_id=UUID('7c2430ae-c08f-48b0-9064-ff80f49deca7')), RunInfo(run_id=UUID('23a5ff60-580b-49fb-8d42-afc26ebd1fb0'))])"
      ]
     },
     "execution_count": 19,
     "metadata": {},
     "output_type": "execute_result"
    }
   ],
   "source": [
    "batch_messages = [\n",
    "    [\n",
    "        SystemMessage(\n",
    "            content=\"You are a helpful assistant that translates English to French.\"\n",
    "        ),\n",
    "        HumanMessage(content=\"I love programming.\"),\n",
    "    ],\n",
    "    [\n",
    "        SystemMessage(\n",
    "            content=\"You are a helpful assistant that translates English to French.\"\n",
    "        ),\n",
    "        HumanMessage(content=\"I love artificial intelligence.\"),\n",
    "    ],\n",
    "]\n",
    "result = llm.generate(batch_messages)\n",
    "result"
   ]
  },
  {
   "cell_type": "code",
   "execution_count": 20,
   "metadata": {},
   "outputs": [
    {
     "data": {
      "text/plain": [
       "{'token_usage': {'completion_tokens': 18,\n",
       "  'prompt_tokens': 53,\n",
       "  'total_tokens': 71},\n",
       " 'model_name': 'gpt-3.5-turbo-0125',\n",
       " 'system_fingerprint': 'fp_c2295e73ad'}"
      ]
     },
     "execution_count": 20,
     "metadata": {},
     "output_type": "execute_result"
    }
   ],
   "source": [
    "result.llm_output"
   ]
  }
 ],
 "metadata": {
  "kernelspec": {
   "display_name": "venvLangchain",
   "language": "python",
   "name": "python3"
  },
  "language_info": {
   "codemirror_mode": {
    "name": "ipython",
    "version": 3
   },
   "file_extension": ".py",
   "mimetype": "text/x-python",
   "name": "python",
   "nbconvert_exporter": "python",
   "pygments_lexer": "ipython3",
   "version": "3.12.3"
  }
 },
 "nbformat": 4,
 "nbformat_minor": 2
}
