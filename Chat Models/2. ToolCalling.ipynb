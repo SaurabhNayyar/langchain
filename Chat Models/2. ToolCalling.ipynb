{
 "cells": [
  {
   "cell_type": "code",
   "execution_count": 3,
   "metadata": {},
   "outputs": [],
   "source": [
    "from langchain_core.tools import tool"
   ]
  },
  {
   "cell_type": "markdown",
   "metadata": {},
   "source": [
    "### @tool decorator\n",
    "Tool Decorator makes tools out of functions"
   ]
  },
  {
   "cell_type": "code",
   "execution_count": 8,
   "metadata": {},
   "outputs": [],
   "source": [
    "@tool\n",
    "def multiply(a: int, b:int)->int:\n",
    "    \"Multiply a & b\"\n",
    "    return a*b\n",
    "\n",
    "@tool\n",
    "def add(a:int, b:int)->int:\n",
    "    \"Add a & bs\"\n",
    "    return a+b\n",
    "\n",
    "tools = [multiply,add]"
   ]
  },
  {
   "cell_type": "code",
   "execution_count": 23,
   "metadata": {},
   "outputs": [
    {
     "name": "stdout",
     "output_type": "stream",
     "text": [
      "Calling say_hello\n",
      "say_hello took 0.000374 seconds to process\n"
     ]
    },
    {
     "data": {
      "text/plain": [
       "'Hello Saurabh, your age is 10.'"
      ]
     },
     "execution_count": 23,
     "metadata": {},
     "output_type": "execute_result"
    }
   ],
   "source": [
    "# Python Decorators\n",
    "\"\"\"\n",
    "By definition, a decorator is a function that takes another function \n",
    "and extends the behavior of the latter function without explicitly modifying it\n",
    "\"\"\"\n",
    "import time\n",
    "\n",
    "def timer(func):\n",
    "    def wrapper(*args, **kwargs):\n",
    "        starttime = time.perf_counter()\n",
    "        print(f\"Calling {func.__name__}\")\n",
    "        value = func(*args, **kwargs)\n",
    "        endtime = time.perf_counter()\n",
    "        time_taken = endtime - starttime\n",
    "        print(f\"{func.__name__} took {time_taken:4f} seconds to process\")\n",
    "        return value\n",
    "    \n",
    "    return wrapper\n",
    "\n",
    "@timer\n",
    "def say_hello(name,age):\n",
    "    return f\"Hello {name}, your age is {age}.\"\n",
    "\n",
    "say_hello(\"Saurabh\",10)"
   ]
  }
 ],
 "metadata": {
  "kernelspec": {
   "display_name": "venvLangchain",
   "language": "python",
   "name": "python3"
  },
  "language_info": {
   "codemirror_mode": {
    "name": "ipython",
    "version": 3
   },
   "file_extension": ".py",
   "mimetype": "text/x-python",
   "name": "python",
   "nbconvert_exporter": "python",
   "pygments_lexer": "ipython3",
   "version": "3.12.3"
  }
 },
 "nbformat": 4,
 "nbformat_minor": 2
}
