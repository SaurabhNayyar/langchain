{
 "cells": [
  {
   "cell_type": "code",
   "execution_count": 26,
   "metadata": {},
   "outputs": [],
   "source": [
    "from langchain_openai import ChatOpenAI\n",
    "# from langchain_openai import OpenAI\n",
    "from langchain_core.prompts import ChatPromptTemplate"
   ]
  },
  {
   "cell_type": "markdown",
   "metadata": {},
   "source": [
    "#### ChatPromptTemplate\n",
    "<font color=\"blue\">\n",
    "    1. Create ChatPromptTemplate from <b>Messages(list)</b>.\n",
    "    2. Messages can be <b>System, Human, AI Messages</b>.\n",
    "</font>"
   ]
  },
  {
   "cell_type": "code",
   "execution_count": 34,
   "metadata": {},
   "outputs": [
    {
     "data": {
      "text/plain": [
       "[SystemMessage(content='You are a translation asssitant that translates English to French'),\n",
       " HumanMessage(content='I love programming')]"
      ]
     },
     "execution_count": 34,
     "metadata": {},
     "output_type": "execute_result"
    }
   ],
   "source": [
    "chat_prompt = ChatPromptTemplate.from_messages([\n",
    "                                                (\"system\",\"You are a translation asssitant that translates {input_language} to {output_language}\"),\n",
    "                                                (\"human\",\"{input_text}\")\n",
    "])\n",
    "chat_prompt.format_messages(input_language=\"English\",output_language=\"French\",input_text=\"I love programming\")"
   ]
  },
  {
   "cell_type": "markdown",
   "metadata": {},
   "source": [
    "#### ChatOpenAI Model with PromptTemplate & Chain\n",
    "<font color=\"blue\">\n",
    "<ul>\n",
    "    <li>While invoking the chain, pass the list of prompt parameters as name:value pairs in curly braces({})</li>\n",
    "</ul>\n",
    "</font>"
   ]
  },
  {
   "cell_type": "code",
   "execution_count": 30,
   "metadata": {},
   "outputs": [],
   "source": [
    "chat_model = ChatOpenAI(model=\"gpt-3.5-turbo-0125\", temperature=0.2)"
   ]
  },
  {
   "cell_type": "code",
   "execution_count": 33,
   "metadata": {},
   "outputs": [
    {
     "data": {
      "text/plain": [
       "AIMessage(content=\"Je n'aime pas les études sociales.\", response_metadata={'token_usage': {'completion_tokens': 10, 'prompt_tokens': 29, 'total_tokens': 39}, 'model_name': 'gpt-3.5-turbo-0125', 'system_fingerprint': 'fp_d9767fc5b9', 'finish_reason': 'stop', 'logprobs': None}, id='run-b3e9f43b-f9a4-43ac-b7dd-dd6514e63d2f-0')"
      ]
     },
     "execution_count": 33,
     "metadata": {},
     "output_type": "execute_result"
    }
   ],
   "source": [
    "chain = chat_prompt | chat_model\n",
    "chain.invoke(\n",
    "    {\n",
    "        \"input_language\":\"English\",\n",
    "        \"output_language\":\"French\",\n",
    "        \"input_text\":\"I do not like social studies\"\n",
    "    }\n",
    ")"
   ]
  }
 ],
 "metadata": {
  "kernelspec": {
   "display_name": ".venv",
   "language": "python",
   "name": "python3"
  },
  "language_info": {
   "codemirror_mode": {
    "name": "ipython",
    "version": 3
   },
   "file_extension": ".py",
   "mimetype": "text/x-python",
   "name": "python",
   "nbconvert_exporter": "python",
   "pygments_lexer": "ipython3",
   "version": "3.12.3"
  }
 },
 "nbformat": 4,
 "nbformat_minor": 2
}
