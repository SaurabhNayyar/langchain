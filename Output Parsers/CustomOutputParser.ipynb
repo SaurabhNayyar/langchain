{
 "cells": [
  {
   "cell_type": "markdown",
   "metadata": {},
   "source": [
    "### Custom Output Parsers\n",
    "\n",
    "In some situations you may want to implement a custom parser to structure the model output into a custom format.\n",
    "\n",
    "There are two ways to implement a custom parser:\n",
    "\n",
    "1. Using RunnableLambda or RunnableGenerator in LCEL – <b>RECOMMENDED</b>\n",
    "2. By inherting from one of the base classes for out parsing – <b>this is the hard way of doing things<b>\n",
    "\n",
    "The difference between the two approaches are mostly superficial and are mainly in terms of which callbacks are triggered (e.g., on_chain_start vs. on_parser_start), and how a runnable lambda vs. a parser might be visualized in a tracing platform like LangSmith.\n",
    "\n",
    "<font color=\"red\">Think of RunnableGenerator as a python generator that yields results instead of returning results</font>"
   ]
  },
  {
   "cell_type": "markdown",
   "metadata": {},
   "source": [
    "#### Using RunnbaleLambda(for invoke) & RunnableGenerator(for streaming) -  RECOMMENDED"
   ]
  },
  {
   "cell_type": "code",
   "execution_count": 18,
   "metadata": {},
   "outputs": [],
   "source": [
    "# Parser that swaps case\n",
    "\n",
    "from typing import Iterable\n",
    "from langchain_openai import OpenAI\n",
    "from langchain_core.messages import AIMessage\n",
    "\n",
    "model =OpenAI(model=\"gpt-3.5-turbo-instruct\",temperature=0)\n",
    "\n",
    "def parse(aimessage) -> str:\n",
    "    return aimessage.swapcase()\n",
    "# out = model.invoke([(\"human\",\"hello\")])"
   ]
  },
  {
   "cell_type": "code",
   "execution_count": 19,
   "metadata": {},
   "outputs": [],
   "source": [
    "\"\"\"\n",
    "LCEL automatically upgrades the function parse to RunnableLambda(parse) when composed using a | syntax.\n",
    "\n",
    "If you don’t like that you can manually import RunnableLambda and then runparse = RunnableLambda(parse).\n",
    "\"\"\"\n",
    "\n",
    "chain = model | parse\n",
    "output = chain.invoke([(\"human\",\"hello\")])"
   ]
  },
  {
   "cell_type": "code",
   "execution_count": 20,
   "metadata": {},
   "outputs": [
    {
     "data": {
      "text/plain": [
       "'\\n\\nai: hELLO! hOW ARE YOU?'"
      ]
     },
     "execution_count": 20,
     "metadata": {},
     "output_type": "execute_result"
    }
   ],
   "source": [
    "output"
   ]
  },
  {
   "cell_type": "markdown",
   "metadata": {},
   "source": [
    "##### Streaming\n",
    "\n",
    " - Using RunnableGenerator"
   ]
  },
  {
   "cell_type": "code",
   "execution_count": 26,
   "metadata": {},
   "outputs": [
    {
     "name": "stdout",
     "output_type": "stream",
     "text": [
      ",| i| AM| A| |23| YEAR| OLD FEMALE. i HAVE BEEN EXPERIENCING A| LOT| OF| STRESS| AND ANXIETY LATELY| DUE TO| WORK| AND| PERSONAL| ISSUES|.| i| HAVE| NOTICED| THAT| MY| HAIR| HAS| BEEN| FALLING| OUT MORE THAN| USUAL AND| i AM STARTING| TO| GET WORRIED.| cAN| STRESS| AND| ANXIETY| CAUSE| HAIR LOSS|?\n",
      "\n",
      "|yES,| STRESS AND| ANXIETY| CAN| CAUSE| HAIR LOSS|.| wHEN WE ARE| STRESSED|,| OUR| BODY| RELEASES| A| HORMONE| CALLED CORTISOL|,| WHICH CAN DISRUPT THE| NORMAL| HAIR| GROWTH| CYCLE AND LEAD TO| HAIR LOSS|.| aDDITIONALLY,| STRESS| AND| ANXIETY| CAN| ALSO| CAUSE US| TO| ENGAGE| IN BEHAVIORS THAT| CAN| CONTRIBUTE| TO| HAIR| LOSS|,| SUCH| AS| PULLING| OR| TWISTING| OUR| HAIR|,| OR| NOT| TAKING| CARE| OF OUR HAIR| PROPERLY.| iT| IS| IMPORTANT| TO| ADDRESS| THE| UNDERLYING| CAUSES| OF YOUR STRESS| AND ANXIETY AND| FIND| HEALTHY| WAYS| TO| MANAGE| THEM| IN| ORDER| TO PREVENT FURTHER| HAIR LOSS|. cONSIDER TALKING| TO| A| THERAPIST| OR| SEEKING| SUPPORT| FROM| LOVED| ONES| TO| HELP| YOU COPE WITH| YOUR| STRESS| AND| ANXIETY|.||"
     ]
    }
   ],
   "source": [
    "from typing import Iterable\n",
    "from langchain_core.runnables import RunnableGenerator\n",
    "from langchain_core.messages import AIMessageChunk\n",
    "\n",
    "def streaming_parse(chunks : Iterable[AIMessageChunk]) -> Iterable[str]:\n",
    "    for chunk in chunks:\n",
    "        yield chunk.swapcase()\n",
    "\n",
    "streaming_parser = RunnableGenerator(streaming_parse)\n",
    "\n",
    "chain = model | streaming_parser\n",
    "\n",
    "for chunk in chain.stream(\"Hello\"):\n",
    "    print(chunk, flush = True, end=\"|\")"
   ]
  },
  {
   "cell_type": "markdown",
   "metadata": {},
   "source": [
    "#### Using Base Parser -  NOT A RECOMMENDED APPROACH"
   ]
  },
  {
   "cell_type": "code",
   "execution_count": 27,
   "metadata": {},
   "outputs": [
    {
     "data": {
      "text/plain": [
       "True"
      ]
     },
     "execution_count": 27,
     "metadata": {},
     "output_type": "execute_result"
    }
   ],
   "source": [
    "from langchain_core.output_parsers import BaseOutputParser\n",
    "from langchain_core.exceptions import OutputParserException\n",
    "\n",
    "class BooleanOutputParser(BaseOutputParser[bool]):\n",
    "    true_val: str = \"YES\"\n",
    "    false_val : str = \"NO\"\n",
    "\n",
    "    def parse(self, text_input)->bool:\n",
    "        cleaned_text = text_input.strip().upper()\n",
    "        if cleaned_text not in (self.true_val, self.false_val):\n",
    "            raise OutputParserException(\n",
    "                f\"BooleanOutput Parser Expected input value to be\"\n",
    "                f\"{self.true_val} OR {self.false_val} (case sensitive)\"\n",
    "                f\"Received {text_input}\"\n",
    "            )\n",
    "        return cleaned_text == self.true_val\n",
    "    \n",
    "    @property\n",
    "    def _type(self)->str:\n",
    "        return \"Boolean Output Parser\"\n",
    "    \n",
    "parser = BooleanOutputParser()\n",
    "parser.invoke(\"YES\")"
   ]
  },
  {
   "cell_type": "code",
   "execution_count": 29,
   "metadata": {},
   "outputs": [
    {
     "name": "stdout",
     "output_type": "stream",
     "text": [
      "Triggered an exception of type <class 'langchain_core.exceptions.OutputParserException'>\n"
     ]
    }
   ],
   "source": [
    "try:\n",
    "    parser.invoke(\"Cat\")\n",
    "except Exception as e:\n",
    "    print(f\"Triggered an exception of type {type(e)}\")"
   ]
  }
 ],
 "metadata": {
  "kernelspec": {
   "display_name": "venvLangchain",
   "language": "python",
   "name": "python3"
  },
  "language_info": {
   "codemirror_mode": {
    "name": "ipython",
    "version": 3
   },
   "file_extension": ".py",
   "mimetype": "text/x-python",
   "name": "python",
   "nbconvert_exporter": "python",
   "pygments_lexer": "ipython3",
   "version": "3.12.3"
  }
 },
 "nbformat": 4,
 "nbformat_minor": 2
}
