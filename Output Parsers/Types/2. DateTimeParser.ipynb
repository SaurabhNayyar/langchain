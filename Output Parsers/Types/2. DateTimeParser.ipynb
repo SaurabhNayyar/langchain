{
 "cells": [
  {
   "cell_type": "code",
   "execution_count": 2,
   "metadata": {},
   "outputs": [],
   "source": [
    "from langchain.output_parsers import DatetimeOutputParser\n",
    "from langchain_openai import OpenAI\n",
    "from langchain_core.prompts import PromptTemplate"
   ]
  },
  {
   "cell_type": "code",
   "execution_count": 5,
   "metadata": {},
   "outputs": [
    {
     "data": {
      "text/plain": [
       "datetime.datetime(2009, 1, 3, 18, 15, 5)"
      ]
     },
     "execution_count": 5,
     "metadata": {},
     "output_type": "execute_result"
    }
   ],
   "source": [
    "llm = OpenAI(model=\"gpt-3.5-turbo-instruct\")\n",
    "\n",
    "parser = DatetimeOutputParser(format='%Y-%m-%dT%H:%M:%S.%fZ')\n",
    "\n",
    "prompt = PromptTemplate(template=\"Answer {question} as per following instructions.\\n{format_instructions}\",\n",
    "                        input_variables=[\"question\"],\n",
    "                        partial_variables={\"format_instructions\":parser.get_format_instructions()}\n",
    "                        )\n",
    "\n",
    "chain = prompt | llm | parser\n",
    "\n",
    "output=chain.invoke({\"question\":\"When was bitcoin found?\"})\n",
    "\n",
    "output"
   ]
  }
 ],
 "metadata": {
  "kernelspec": {
   "display_name": "venvLangchain",
   "language": "python",
   "name": "python3"
  },
  "language_info": {
   "codemirror_mode": {
    "name": "ipython",
    "version": 3
   },
   "file_extension": ".py",
   "mimetype": "text/x-python",
   "name": "python",
   "nbconvert_exporter": "python",
   "pygments_lexer": "ipython3",
   "version": "3.12.3"
  }
 },
 "nbformat": 4,
 "nbformat_minor": 2
}
