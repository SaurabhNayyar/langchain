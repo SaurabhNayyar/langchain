{
 "cells": [
  {
   "cell_type": "markdown",
   "metadata": {},
   "source": [
    "### Custom LLM\n",
    "\n",
    "Use <b>LLM</b> Interface to develop a custom LLM\n",
    "1. Mandatory Implementation\n",
    "    * _call\n",
    "    * _llm_type"
   ]
  },
  {
   "cell_type": "code",
   "execution_count": 3,
   "metadata": {},
   "outputs": [],
   "source": [
    "from langchain_core.language_models.llms import LLM\n",
    "from typing import Any, List, Optional,Dict\n",
    "from langchain_core.callbacks import CallbackManagerForLLMRun"
   ]
  },
  {
   "cell_type": "code",
   "execution_count": 4,
   "metadata": {},
   "outputs": [],
   "source": [
    "class CustomLLM(LLM):\n",
    "    \"\"\"A custom chat model that echoes the first `n` characters of the input.\"\"\"\n",
    "\n",
    "    \"Number of characters to echo\"\n",
    "    n : int\n",
    "\n",
    "    def _call(self, prompt: str, stop: Optional[List[str]] | None = None, run_manager: Optional[CallbackManagerForLLMRun] | None = None, **kwargs: Any) -> str:\n",
    "        # return super()._call(prompt, stop, run_manager, **kwargs)\n",
    "        response = prompt[: self.n]\n",
    "        return response\n",
    "    \n",
    "    @property\n",
    "    def _identifying_params(self)->Dict:\n",
    "        return {\"model_name\":\"Custom LLM\"}\n",
    "\n",
    "    @property\n",
    "    def _llm_type(self)->str:\n",
    "        return \"Echo_N_Characters\""
   ]
  },
  {
   "cell_type": "code",
   "execution_count": 6,
   "metadata": {},
   "outputs": [
    {
     "data": {
      "text/plain": [
       "'Gues'"
      ]
     },
     "execution_count": 6,
     "metadata": {},
     "output_type": "execute_result"
    }
   ],
   "source": [
    "llm = CustomLLM(n=4)\n",
    "\n",
    "llm.invoke(\"Guess\")"
   ]
  }
 ],
 "metadata": {
  "kernelspec": {
   "display_name": "venvLangchain",
   "language": "python",
   "name": "python3"
  },
  "language_info": {
   "codemirror_mode": {
    "name": "ipython",
    "version": 3
   },
   "file_extension": ".py",
   "mimetype": "text/x-python",
   "name": "python",
   "nbconvert_exporter": "python",
   "pygments_lexer": "ipython3",
   "version": "3.12.3"
  }
 },
 "nbformat": 4,
 "nbformat_minor": 2
}
