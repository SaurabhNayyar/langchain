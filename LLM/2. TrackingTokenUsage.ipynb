{
 "cells": [
  {
   "cell_type": "markdown",
   "metadata": {},
   "source": [
    "### Only Available in OpenAI\n",
    "\n",
    "Get the OpenAI callback handler in a context manager. which conveniently exposes token and cost information.\n",
    "\n",
    "Returns <b>OpenAICallbackHandler</b>: The OpenAI callback handler.\n"
   ]
  },
  {
   "cell_type": "code",
   "execution_count": 1,
   "metadata": {},
   "outputs": [],
   "source": [
    "from langchain_community.callbacks import get_openai_callback\n",
    "from langchain_openai import OpenAI"
   ]
  },
  {
   "cell_type": "code",
   "execution_count": 6,
   "metadata": {},
   "outputs": [
    {
     "name": "stdout",
     "output_type": "stream",
     "text": [
      "Tokens Used: 40\n",
      "\tPrompt Tokens: 4\n",
      "\tCompletion Tokens: 36\n",
      "Successful Requests: 1\n",
      "Total Cost (USD): $7.8e-05\n",
      "generations=[[Generation(text=\"\\n\\nWhy couldn't the bicycle stand up by itself? Because it was two-tired.\", generation_info={'finish_reason': 'stop', 'logprobs': None})]] llm_output={'token_usage': {'completion_tokens': 36, 'prompt_tokens': 4, 'total_tokens': 40}, 'model_name': 'gpt-3.5-turbo-instruct'} run=[RunInfo(run_id=UUID('8a8eaed1-6f5f-4457-930c-0ad8feb1c437'))]\n"
     ]
    }
   ],
   "source": [
    "llm=OpenAI(model=\"gpt-3.5-turbo-instruct\", temperature=0, best_of=2)\n",
    "\n",
    "with get_openai_callback() as cb:\n",
    "    result = llm.generate([\"Tell me a joke\"])\n",
    "    print(cb)\n",
    "    print(result)"
   ]
  },
  {
   "cell_type": "code",
   "execution_count": 7,
   "metadata": {},
   "outputs": [
    {
     "name": "stdout",
     "output_type": "stream",
     "text": [
      "Total Cost: 7.8e-05\n",
      "Total Tokens: 40\n",
      "Prompt Tokens: 4\n",
      "Completion Tokens: 36\n"
     ]
    }
   ],
   "source": [
    "print(f\"Total Cost: {cb.total_cost}\")\n",
    "print(f\"Total Tokens: {cb.total_tokens}\")\n",
    "print(f\"Prompt Tokens: {cb.prompt_tokens}\")\n",
    "print(f\"Completion Tokens: {cb.completion_tokens}\")"
   ]
  }
 ],
 "metadata": {
  "kernelspec": {
   "display_name": "venvLangchain",
   "language": "python",
   "name": "python3"
  },
  "language_info": {
   "codemirror_mode": {
    "name": "ipython",
    "version": 3
   },
   "file_extension": ".py",
   "mimetype": "text/x-python",
   "name": "python",
   "nbconvert_exporter": "python",
   "pygments_lexer": "ipython3",
   "version": "3.12.3"
  }
 },
 "nbformat": 4,
 "nbformat_minor": 2
}
