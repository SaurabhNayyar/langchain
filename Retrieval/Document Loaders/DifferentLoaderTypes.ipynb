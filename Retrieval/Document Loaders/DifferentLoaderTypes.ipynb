{
 "cells": [
  {
   "cell_type": "markdown",
   "metadata": {},
   "source": [
    "### CSV Loader"
   ]
  },
  {
   "cell_type": "code",
   "execution_count": 5,
   "metadata": {},
   "outputs": [
    {
     "data": {
      "text/plain": [
       "[Document(page_content='age: 55.0\\nanaemia: 0\\ncreatinine_phosphokinase: 748\\ndiabetes: 0\\nejection_fraction: 45\\nhigh_blood_pressure: 0\\nplatelets: 263358.03\\nserum_creatinine: 1.3\\nserum_sodium: 137\\nsex: 1\\nsmoking: 1\\ntime: 88\\nDEATH_EVENT: 0', metadata={'source': './heart_failure_clinical_records.csv', 'row': 0}),\n",
       " Document(page_content='age: 65.0\\nanaemia: 0\\ncreatinine_phosphokinase: 56\\ndiabetes: 0\\nejection_fraction: 25\\nhigh_blood_pressure: 0\\nplatelets: 305000.0\\nserum_creatinine: 5.0\\nserum_sodium: 130\\nsex: 1\\nsmoking: 0\\ntime: 207\\nDEATH_EVENT: 0', metadata={'source': './heart_failure_clinical_records.csv', 'row': 1}),\n",
       " Document(page_content='age: 45.0\\nanaemia: 0\\ncreatinine_phosphokinase: 582\\ndiabetes: 1\\nejection_fraction: 38\\nhigh_blood_pressure: 0\\nplatelets: 319000.0\\nserum_creatinine: 0.9\\nserum_sodium: 140\\nsex: 0\\nsmoking: 0\\ntime: 244\\nDEATH_EVENT: 0', metadata={'source': './heart_failure_clinical_records.csv', 'row': 2}),\n",
       " Document(page_content='age: 60.0\\nanaemia: 1\\ncreatinine_phosphokinase: 754\\ndiabetes: 1\\nejection_fraction: 40\\nhigh_blood_pressure: 1\\nplatelets: 328000.0\\nserum_creatinine: 1.2\\nserum_sodium: 126\\nsex: 1\\nsmoking: 0\\ntime: 90\\nDEATH_EVENT: 0', metadata={'source': './heart_failure_clinical_records.csv', 'row': 3}),\n",
       " Document(page_content='age: 95.0\\nanaemia: 1\\ncreatinine_phosphokinase: 582\\ndiabetes: 0\\nejection_fraction: 30\\nhigh_blood_pressure: 0\\nplatelets: 461000.0\\nserum_creatinine: 2.0\\nserum_sodium: 132\\nsex: 1\\nsmoking: 0\\ntime: 50\\nDEATH_EVENT: 1', metadata={'source': './heart_failure_clinical_records.csv', 'row': 4})]"
      ]
     },
     "execution_count": 5,
     "metadata": {},
     "output_type": "execute_result"
    }
   ],
   "source": [
    "from langchain_community.document_loaders.csv_loader import CSVLoader\n",
    "\n",
    "loader = CSVLoader(\"./heart_failure_clinical_records.csv\")\n",
    "\n",
    "loader.load()[:5]"
   ]
  },
  {
   "cell_type": "markdown",
   "metadata": {},
   "source": [
    "#### Specify a column to identify the document source\n",
    "\n",
    "Use the source_column argument to specify a source for the document created from each row. Otherwise file_path will be used as the source for all documents created from the CSV file.\n",
    "\n",
    "<u><i>This is useful when using documents loaded from CSV files for chains that answer questions using sources.</i></u>"
   ]
  },
  {
   "cell_type": "code",
   "execution_count": 10,
   "metadata": {},
   "outputs": [
    {
     "data": {
      "text/plain": [
       "[Document(page_content='age: 55.0\\nanaemia: 0\\ncreatinine_phosphokinase: 748\\ndiabetes: 0\\nejection_fraction: 45\\nhigh_blood_pressure: 0\\nplatelets: 263358.03\\nserum_creatinine: 1.3\\nserum_sodium: 137\\nsex: 1\\nsmoking: 1\\ntime: 88\\nDEATH_EVENT: 0', metadata={'source': '0', 'row': 0}),\n",
       " Document(page_content='age: 65.0\\nanaemia: 0\\ncreatinine_phosphokinase: 56\\ndiabetes: 0\\nejection_fraction: 25\\nhigh_blood_pressure: 0\\nplatelets: 305000.0\\nserum_creatinine: 5.0\\nserum_sodium: 130\\nsex: 1\\nsmoking: 0\\ntime: 207\\nDEATH_EVENT: 0', metadata={'source': '0', 'row': 1}),\n",
       " Document(page_content='age: 45.0\\nanaemia: 0\\ncreatinine_phosphokinase: 582\\ndiabetes: 1\\nejection_fraction: 38\\nhigh_blood_pressure: 0\\nplatelets: 319000.0\\nserum_creatinine: 0.9\\nserum_sodium: 140\\nsex: 0\\nsmoking: 0\\ntime: 244\\nDEATH_EVENT: 0', metadata={'source': '1', 'row': 2}),\n",
       " Document(page_content='age: 60.0\\nanaemia: 1\\ncreatinine_phosphokinase: 754\\ndiabetes: 1\\nejection_fraction: 40\\nhigh_blood_pressure: 1\\nplatelets: 328000.0\\nserum_creatinine: 1.2\\nserum_sodium: 126\\nsex: 1\\nsmoking: 0\\ntime: 90\\nDEATH_EVENT: 0', metadata={'source': '1', 'row': 3}),\n",
       " Document(page_content='age: 95.0\\nanaemia: 1\\ncreatinine_phosphokinase: 582\\ndiabetes: 0\\nejection_fraction: 30\\nhigh_blood_pressure: 0\\nplatelets: 461000.0\\nserum_creatinine: 2.0\\nserum_sodium: 132\\nsex: 1\\nsmoking: 0\\ntime: 50\\nDEATH_EVENT: 1', metadata={'source': '0', 'row': 4})]"
      ]
     },
     "execution_count": 10,
     "metadata": {},
     "output_type": "execute_result"
    }
   ],
   "source": [
    "loader = CSVLoader(file_path=\"./heart_failure_clinical_records.csv\", csv_args={\"delimiter\":\",\",\"quotechar\":'\"'},source_column=\"diabetes\")\n",
    "\n",
    "loader.load()[:5]\n",
    "\n",
    "#print(loader.source_column)"
   ]
  },
  {
   "cell_type": "markdown",
   "metadata": {},
   "source": [
    "### File Directory Loader : <i>Load all documents in a directory</i>"
   ]
  },
  {
   "cell_type": "code",
   "execution_count": 3,
   "metadata": {},
   "outputs": [
    {
     "ename": "ModuleNotFoundError",
     "evalue": "No module named 'unstructured'",
     "output_type": "error",
     "traceback": [
      "\u001b[0;31m---------------------------------------------------------------------------\u001b[0m",
      "\u001b[0;31mModuleNotFoundError\u001b[0m                       Traceback (most recent call last)",
      "Cell \u001b[0;32mIn[3], line 3\u001b[0m\n\u001b[1;32m      1\u001b[0m \u001b[38;5;28;01mfrom\u001b[39;00m \u001b[38;5;21;01mlangchain_community\u001b[39;00m\u001b[38;5;21;01m.\u001b[39;00m\u001b[38;5;21;01mdocument_loaders\u001b[39;00m \u001b[38;5;28;01mimport\u001b[39;00m DirectoryLoader\n\u001b[0;32m----> 3\u001b[0m \u001b[38;5;28;01mimport\u001b[39;00m \u001b[38;5;21;01munstructured\u001b[39;00m\n",
      "\u001b[0;31mModuleNotFoundError\u001b[0m: No module named 'unstructured'"
     ]
    }
   ],
   "source": [
    "from langchain_community.document_loaders import DirectoryLoader\n"
   ]
  },
  {
   "cell_type": "code",
   "execution_count": 10,
   "metadata": {},
   "outputs": [
    {
     "name": "stderr",
     "output_type": "stream",
     "text": [
      "Error loading file heart_failure_clinical_records.csv\n"
     ]
    },
    {
     "ename": "ValueError",
     "evalue": "unstructured package not found, please install it with `pip install unstructured`",
     "output_type": "error",
     "traceback": [
      "\u001b[0;31m---------------------------------------------------------------------------\u001b[0m",
      "\u001b[0;31mModuleNotFoundError\u001b[0m                       Traceback (most recent call last)",
      "File \u001b[0;32m~/Documents/GenAI/Langchain/venvLangchain/lib/python3.12/site-packages/langchain_community/document_loaders/unstructured.py:49\u001b[0m, in \u001b[0;36mUnstructuredBaseLoader.__init__\u001b[0;34m(self, mode, post_processors, **unstructured_kwargs)\u001b[0m\n\u001b[1;32m     48\u001b[0m \u001b[38;5;28;01mtry\u001b[39;00m:\n\u001b[0;32m---> 49\u001b[0m     \u001b[38;5;28;01mimport\u001b[39;00m \u001b[38;5;21;01munstructured\u001b[39;00m  \u001b[38;5;66;03m# noqa:F401\u001b[39;00m\n\u001b[1;32m     50\u001b[0m \u001b[38;5;28;01mexcept\u001b[39;00m \u001b[38;5;167;01mImportError\u001b[39;00m:\n",
      "\u001b[0;31mModuleNotFoundError\u001b[0m: No module named 'unstructured'",
      "\nDuring handling of the above exception, another exception occurred:\n",
      "\u001b[0;31mValueError\u001b[0m                                Traceback (most recent call last)",
      "Cell \u001b[0;32mIn[10], line 3\u001b[0m\n\u001b[1;32m      1\u001b[0m loader \u001b[38;5;241m=\u001b[39m DirectoryLoader(\u001b[38;5;124m\"\u001b[39m\u001b[38;5;124m.\u001b[39m\u001b[38;5;124m\"\u001b[39m,glob\u001b[38;5;241m=\u001b[39m\u001b[38;5;124m\"\u001b[39m\u001b[38;5;124m*.csv\u001b[39m\u001b[38;5;124m\"\u001b[39m)\n\u001b[0;32m----> 3\u001b[0m \u001b[43mloader\u001b[49m\u001b[38;5;241;43m.\u001b[39;49m\u001b[43mload\u001b[49m\u001b[43m(\u001b[49m\u001b[43m)\u001b[49m\n",
      "File \u001b[0;32m~/Documents/GenAI/Langchain/venvLangchain/lib/python3.12/site-packages/langchain_community/document_loaders/directory.py:117\u001b[0m, in \u001b[0;36mDirectoryLoader.load\u001b[0;34m(self)\u001b[0m\n\u001b[1;32m    115\u001b[0m \u001b[38;5;28;01mdef\u001b[39;00m \u001b[38;5;21mload\u001b[39m(\u001b[38;5;28mself\u001b[39m) \u001b[38;5;241m-\u001b[39m\u001b[38;5;241m>\u001b[39m List[Document]:\n\u001b[1;32m    116\u001b[0m \u001b[38;5;250m    \u001b[39m\u001b[38;5;124;03m\"\"\"Load documents.\"\"\"\u001b[39;00m\n\u001b[0;32m--> 117\u001b[0m     \u001b[38;5;28;01mreturn\u001b[39;00m \u001b[38;5;28;43mlist\u001b[39;49m\u001b[43m(\u001b[49m\u001b[38;5;28;43mself\u001b[39;49m\u001b[38;5;241;43m.\u001b[39;49m\u001b[43mlazy_load\u001b[49m\u001b[43m(\u001b[49m\u001b[43m)\u001b[49m\u001b[43m)\u001b[49m\n",
      "File \u001b[0;32m~/Documents/GenAI/Langchain/venvLangchain/lib/python3.12/site-packages/langchain_community/document_loaders/directory.py:181\u001b[0m, in \u001b[0;36mDirectoryLoader.lazy_load\u001b[0;34m(self)\u001b[0m\n\u001b[1;32m    179\u001b[0m \u001b[38;5;28;01melse\u001b[39;00m:\n\u001b[1;32m    180\u001b[0m     \u001b[38;5;28;01mfor\u001b[39;00m i \u001b[38;5;129;01min\u001b[39;00m items:\n\u001b[0;32m--> 181\u001b[0m         \u001b[38;5;28;01myield from\u001b[39;00m \u001b[38;5;28mself\u001b[39m\u001b[38;5;241m.\u001b[39m_lazy_load_file(i, p, pbar)\n\u001b[1;32m    183\u001b[0m \u001b[38;5;28;01mif\u001b[39;00m pbar:\n\u001b[1;32m    184\u001b[0m     pbar\u001b[38;5;241m.\u001b[39mclose()\n",
      "File \u001b[0;32m~/Documents/GenAI/Langchain/venvLangchain/lib/python3.12/site-packages/langchain_community/document_loaders/directory.py:219\u001b[0m, in \u001b[0;36mDirectoryLoader._lazy_load_file\u001b[0;34m(self, item, path, pbar)\u001b[0m\n\u001b[1;32m    217\u001b[0m     \u001b[38;5;28;01melse\u001b[39;00m:\n\u001b[1;32m    218\u001b[0m         logger\u001b[38;5;241m.\u001b[39merror(\u001b[38;5;124mf\u001b[39m\u001b[38;5;124m\"\u001b[39m\u001b[38;5;124mError loading file \u001b[39m\u001b[38;5;132;01m{\u001b[39;00m\u001b[38;5;28mstr\u001b[39m(item)\u001b[38;5;132;01m}\u001b[39;00m\u001b[38;5;124m\"\u001b[39m)\n\u001b[0;32m--> 219\u001b[0m         \u001b[38;5;28;01mraise\u001b[39;00m e\n\u001b[1;32m    220\u001b[0m \u001b[38;5;28;01mfinally\u001b[39;00m:\n\u001b[1;32m    221\u001b[0m     \u001b[38;5;28;01mif\u001b[39;00m pbar:\n",
      "File \u001b[0;32m~/Documents/GenAI/Langchain/venvLangchain/lib/python3.12/site-packages/langchain_community/document_loaders/directory.py:207\u001b[0m, in \u001b[0;36mDirectoryLoader._lazy_load_file\u001b[0;34m(self, item, path, pbar)\u001b[0m\n\u001b[1;32m    205\u001b[0m \u001b[38;5;28;01mtry\u001b[39;00m:\n\u001b[1;32m    206\u001b[0m     logger\u001b[38;5;241m.\u001b[39mdebug(\u001b[38;5;124mf\u001b[39m\u001b[38;5;124m\"\u001b[39m\u001b[38;5;124mProcessing file: \u001b[39m\u001b[38;5;132;01m{\u001b[39;00m\u001b[38;5;28mstr\u001b[39m(item)\u001b[38;5;132;01m}\u001b[39;00m\u001b[38;5;124m\"\u001b[39m)\n\u001b[0;32m--> 207\u001b[0m     loader \u001b[38;5;241m=\u001b[39m \u001b[38;5;28;43mself\u001b[39;49m\u001b[38;5;241;43m.\u001b[39;49m\u001b[43mloader_cls\u001b[49m\u001b[43m(\u001b[49m\u001b[38;5;28;43mstr\u001b[39;49m\u001b[43m(\u001b[49m\u001b[43mitem\u001b[49m\u001b[43m)\u001b[49m\u001b[43m,\u001b[49m\u001b[43m \u001b[49m\u001b[38;5;241;43m*\u001b[39;49m\u001b[38;5;241;43m*\u001b[39;49m\u001b[38;5;28;43mself\u001b[39;49m\u001b[38;5;241;43m.\u001b[39;49m\u001b[43mloader_kwargs\u001b[49m\u001b[43m)\u001b[49m\n\u001b[1;32m    208\u001b[0m     \u001b[38;5;28;01mtry\u001b[39;00m:\n\u001b[1;32m    209\u001b[0m         \u001b[38;5;28;01mfor\u001b[39;00m subdoc \u001b[38;5;129;01min\u001b[39;00m loader\u001b[38;5;241m.\u001b[39mlazy_load():\n",
      "File \u001b[0;32m~/Documents/GenAI/Langchain/venvLangchain/lib/python3.12/site-packages/langchain_community/document_loaders/unstructured.py:165\u001b[0m, in \u001b[0;36mUnstructuredFileLoader.__init__\u001b[0;34m(self, file_path, mode, **unstructured_kwargs)\u001b[0m\n\u001b[1;32m    163\u001b[0m \u001b[38;5;250m\u001b[39m\u001b[38;5;124;03m\"\"\"Initialize with file path.\"\"\"\u001b[39;00m\n\u001b[1;32m    164\u001b[0m \u001b[38;5;28mself\u001b[39m\u001b[38;5;241m.\u001b[39mfile_path \u001b[38;5;241m=\u001b[39m file_path\n\u001b[0;32m--> 165\u001b[0m \u001b[38;5;28;43msuper\u001b[39;49m\u001b[43m(\u001b[49m\u001b[43m)\u001b[49m\u001b[38;5;241;43m.\u001b[39;49m\u001b[38;5;21;43m__init__\u001b[39;49m\u001b[43m(\u001b[49m\u001b[43mmode\u001b[49m\u001b[38;5;241;43m=\u001b[39;49m\u001b[43mmode\u001b[49m\u001b[43m,\u001b[49m\u001b[43m \u001b[49m\u001b[38;5;241;43m*\u001b[39;49m\u001b[38;5;241;43m*\u001b[39;49m\u001b[43munstructured_kwargs\u001b[49m\u001b[43m)\u001b[49m\n",
      "File \u001b[0;32m~/Documents/GenAI/Langchain/venvLangchain/lib/python3.12/site-packages/langchain_community/document_loaders/unstructured.py:51\u001b[0m, in \u001b[0;36mUnstructuredBaseLoader.__init__\u001b[0;34m(self, mode, post_processors, **unstructured_kwargs)\u001b[0m\n\u001b[1;32m     49\u001b[0m     \u001b[38;5;28;01mimport\u001b[39;00m \u001b[38;5;21;01munstructured\u001b[39;00m  \u001b[38;5;66;03m# noqa:F401\u001b[39;00m\n\u001b[1;32m     50\u001b[0m \u001b[38;5;28;01mexcept\u001b[39;00m \u001b[38;5;167;01mImportError\u001b[39;00m:\n\u001b[0;32m---> 51\u001b[0m     \u001b[38;5;28;01mraise\u001b[39;00m \u001b[38;5;167;01mValueError\u001b[39;00m(\n\u001b[1;32m     52\u001b[0m         \u001b[38;5;124m\"\u001b[39m\u001b[38;5;124munstructured package not found, please install it with \u001b[39m\u001b[38;5;124m\"\u001b[39m\n\u001b[1;32m     53\u001b[0m         \u001b[38;5;124m\"\u001b[39m\u001b[38;5;124m`pip install unstructured`\u001b[39m\u001b[38;5;124m\"\u001b[39m\n\u001b[1;32m     54\u001b[0m     )\n\u001b[1;32m     55\u001b[0m _valid_modes \u001b[38;5;241m=\u001b[39m {\u001b[38;5;124m\"\u001b[39m\u001b[38;5;124msingle\u001b[39m\u001b[38;5;124m\"\u001b[39m, \u001b[38;5;124m\"\u001b[39m\u001b[38;5;124melements\u001b[39m\u001b[38;5;124m\"\u001b[39m, \u001b[38;5;124m\"\u001b[39m\u001b[38;5;124mpaged\u001b[39m\u001b[38;5;124m\"\u001b[39m}\n\u001b[1;32m     56\u001b[0m \u001b[38;5;28;01mif\u001b[39;00m mode \u001b[38;5;129;01mnot\u001b[39;00m \u001b[38;5;129;01min\u001b[39;00m _valid_modes:\n",
      "\u001b[0;31mValueError\u001b[0m: unstructured package not found, please install it with `pip install unstructured`"
     ]
    }
   ],
   "source": [
    "loader = DirectoryLoader(\".\",glob=\"*.csv\")\n",
    "\n",
    "loader.load()"
   ]
  }
 ],
 "metadata": {
  "kernelspec": {
   "display_name": "venvLangchain",
   "language": "python",
   "name": "python3"
  },
  "language_info": {
   "codemirror_mode": {
    "name": "ipython",
    "version": 3
   },
   "file_extension": ".py",
   "mimetype": "text/x-python",
   "name": "python",
   "nbconvert_exporter": "python",
   "pygments_lexer": "ipython3",
   "version": "3.12.3"
  }
 },
 "nbformat": 4,
 "nbformat_minor": 2
}
